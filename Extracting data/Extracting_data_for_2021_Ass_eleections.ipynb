{
  "nbformat": 4,
  "nbformat_minor": 0,
  "metadata": {
    "colab": {
      "name": "Extracting data for 2021 Ass eleections.ipynb",
      "provenance": [],
      "collapsed_sections": [
        "IHl2GpXuxutX"
      ],
      "toc_visible": true
    },
    "kernelspec": {
      "name": "python3",
      "display_name": "Python 3"
    },
    "language_info": {
      "name": "python"
    }
  },
  "cells": [
    {
      "cell_type": "markdown",
      "metadata": {
        "id": "IHl2GpXuxutX"
      },
      "source": [
        "#Pre req"
      ]
    },
    {
      "cell_type": "code",
      "metadata": {
        "colab": {
          "base_uri": "https://localhost:8080/"
        },
        "id": "vNOxv70hx5xP",
        "outputId": "12a272df-f1e7-4597-b230-26a3f2dd1682"
      },
      "source": [
        "!pip install xlsxwriter"
      ],
      "execution_count": 1,
      "outputs": [
        {
          "output_type": "stream",
          "text": [
            "Collecting xlsxwriter\n",
            "\u001b[?25l  Downloading https://files.pythonhosted.org/packages/3c/55/21c0d585ff982db07d809ded31528651df77e4ab61ec52683f57609f201f/XlsxWriter-1.4.2-py2.py3-none-any.whl (149kB)\n",
            "\r\u001b[K     |██▏                             | 10kB 16.1MB/s eta 0:00:01\r\u001b[K     |████▍                           | 20kB 21.8MB/s eta 0:00:01\r\u001b[K     |██████▋                         | 30kB 25.3MB/s eta 0:00:01\r\u001b[K     |████████▉                       | 40kB 25.1MB/s eta 0:00:01\r\u001b[K     |███████████                     | 51kB 24.0MB/s eta 0:00:01\r\u001b[K     |█████████████▏                  | 61kB 17.9MB/s eta 0:00:01\r\u001b[K     |███████████████▍                | 71kB 18.2MB/s eta 0:00:01\r\u001b[K     |█████████████████▋              | 81kB 17.4MB/s eta 0:00:01\r\u001b[K     |███████████████████▉            | 92kB 18.6MB/s eta 0:00:01\r\u001b[K     |██████████████████████          | 102kB 17.4MB/s eta 0:00:01\r\u001b[K     |████████████████████████▏       | 112kB 17.4MB/s eta 0:00:01\r\u001b[K     |██████████████████████████▍     | 122kB 17.4MB/s eta 0:00:01\r\u001b[K     |████████████████████████████▋   | 133kB 17.4MB/s eta 0:00:01\r\u001b[K     |██████████████████████████████▉ | 143kB 17.4MB/s eta 0:00:01\r\u001b[K     |████████████████████████████████| 153kB 17.4MB/s \n",
            "\u001b[?25hInstalling collected packages: xlsxwriter\n",
            "Successfully installed xlsxwriter-1.4.2\n"
          ],
          "name": "stdout"
        }
      ]
    },
    {
      "cell_type": "code",
      "metadata": {
        "id": "sxh9G_d5xyWo"
      },
      "source": [
        "from bs4 import BeautifulSoup\n",
        "import requests\n",
        "import numpy as np\n",
        "import pandas as pd\n",
        "import xlsxwriter\n",
        "import matplotlib.pyplot as plt"
      ],
      "execution_count": 2,
      "outputs": []
    },
    {
      "cell_type": "code",
      "metadata": {
        "id": "w9MEQXQxK2Ax"
      },
      "source": [
        "#Setting for notebook\n",
        "%matplotlib inline\n",
        "pd.options.display.max_columns = None\n",
        "pd.options.display.max_rows = None\n",
        "pd.options.display.width = None\n",
        "pd.options.display.max_colwidth = None"
      ],
      "execution_count": 3,
      "outputs": []
    },
    {
      "cell_type": "markdown",
      "metadata": {
        "id": "P_Pgd1kqlIYW"
      },
      "source": [
        "#Extracting State wise summary"
      ]
    },
    {
      "cell_type": "code",
      "metadata": {
        "id": "GVBa2hBNHDOS"
      },
      "source": [
        "#List of states where elections were conducted\n",
        "Elections21S = [\"S03\", \"S11\", \"S22\", \"S25\"]  \n",
        "soup = {}\n",
        "for state in Elections21S:\n",
        "\n",
        "  #URL for election results website\n",
        "  #!!! Wont work once the results are removed from site. Use already extracted data\n",
        "  url = \"https://results.eci.gov.in/Result2021/partywiseresult-\" + state + \".htm?st=\" + state\n",
        "  response = requests.get(url)\n",
        "\n",
        "  soup[state] = BeautifulSoup(response.content, \"html.parser\")"
      ],
      "execution_count": 4,
      "outputs": []
    },
    {
      "cell_type": "code",
      "metadata": {
        "id": "JFabROXWHY9e"
      },
      "source": [
        "State_of_interest = Elections21S[2]\n",
        "\n",
        "#Extracting data from the html and and building it in a nested list\n",
        "table = soup[State_of_interest].find_all(id=\"div1\")[0].find(\"table\")\n",
        "header = table.find_all(\"tr\")\n",
        "\n",
        "table_data = []\n",
        "\n",
        "for i in range(2, len(header)):\n",
        "  cell_data = []\n",
        "  cell = header[i].find_all(\"td\")\n",
        "  for j in cell:\n",
        "    cell_data.append(j.get_text())\n",
        "  table_data.append(cell_data)"
      ],
      "execution_count": 5,
      "outputs": []
    },
    {
      "cell_type": "code",
      "metadata": {
        "colab": {
          "base_uri": "https://localhost:8080/",
          "height": 328
        },
        "id": "873B77VJdXma",
        "outputId": "edab5e3f-67e4-460e-fc95-d661109a719e"
      },
      "source": [
        "#Converting nested list to dataframe\n",
        "table_df = pd.DataFrame(table_data, columns=[\"Party\", \"Win\", \"Leading\", \"Total Win\"])\n",
        "table_df.style.set_table_attributes(\"style='display:inline'\").set_caption(\"hello\")\n",
        "table_df.drop(0, inplace=True)\n",
        "table_df"
      ],
      "execution_count": 6,
      "outputs": [
        {
          "output_type": "execute_result",
          "data": {
            "text/html": [
              "<div>\n",
              "<style scoped>\n",
              "    .dataframe tbody tr th:only-of-type {\n",
              "        vertical-align: middle;\n",
              "    }\n",
              "\n",
              "    .dataframe tbody tr th {\n",
              "        vertical-align: top;\n",
              "    }\n",
              "\n",
              "    .dataframe thead th {\n",
              "        text-align: right;\n",
              "    }\n",
              "</style>\n",
              "<table border=\"1\" class=\"dataframe\">\n",
              "  <thead>\n",
              "    <tr style=\"text-align: right;\">\n",
              "      <th></th>\n",
              "      <th>Party</th>\n",
              "      <th>Win</th>\n",
              "      <th>Leading</th>\n",
              "      <th>Total Win</th>\n",
              "    </tr>\n",
              "  </thead>\n",
              "  <tbody>\n",
              "    <tr>\n",
              "      <th>1</th>\n",
              "      <td>All India Anna Dravida Munnetra Kazhagam</td>\n",
              "      <td>66</td>\n",
              "      <td>0</td>\n",
              "      <td>66</td>\n",
              "    </tr>\n",
              "    <tr>\n",
              "      <th>2</th>\n",
              "      <td>Bharatiya Janata Party</td>\n",
              "      <td>4</td>\n",
              "      <td>0</td>\n",
              "      <td>4</td>\n",
              "    </tr>\n",
              "    <tr>\n",
              "      <th>3</th>\n",
              "      <td>Communist Party of India</td>\n",
              "      <td>2</td>\n",
              "      <td>0</td>\n",
              "      <td>2</td>\n",
              "    </tr>\n",
              "    <tr>\n",
              "      <th>4</th>\n",
              "      <td>Communist Party of India  (Marxist)</td>\n",
              "      <td>2</td>\n",
              "      <td>0</td>\n",
              "      <td>2</td>\n",
              "    </tr>\n",
              "    <tr>\n",
              "      <th>5</th>\n",
              "      <td>Dravida Munnetra Kazhagam</td>\n",
              "      <td>133</td>\n",
              "      <td>0</td>\n",
              "      <td>133</td>\n",
              "    </tr>\n",
              "    <tr>\n",
              "      <th>6</th>\n",
              "      <td>Indian National Congress</td>\n",
              "      <td>18</td>\n",
              "      <td>0</td>\n",
              "      <td>18</td>\n",
              "    </tr>\n",
              "    <tr>\n",
              "      <th>7</th>\n",
              "      <td>Pattali Makkal Katchi</td>\n",
              "      <td>5</td>\n",
              "      <td>0</td>\n",
              "      <td>5</td>\n",
              "    </tr>\n",
              "    <tr>\n",
              "      <th>8</th>\n",
              "      <td>Viduthalai Chiruthaigal Katchi</td>\n",
              "      <td>4</td>\n",
              "      <td>0</td>\n",
              "      <td>4</td>\n",
              "    </tr>\n",
              "    <tr>\n",
              "      <th>9</th>\n",
              "      <td>Total</td>\n",
              "      <td>234</td>\n",
              "      <td>0</td>\n",
              "      <td>234</td>\n",
              "    </tr>\n",
              "  </tbody>\n",
              "</table>\n",
              "</div>"
            ],
            "text/plain": [
              "                                      Party  Win Leading Total Win\n",
              "1  All India Anna Dravida Munnetra Kazhagam   66       0        66\n",
              "2                    Bharatiya Janata Party    4       0         4\n",
              "3                  Communist Party of India    2       0         2\n",
              "4       Communist Party of India  (Marxist)    2       0         2\n",
              "5                 Dravida Munnetra Kazhagam  133       0       133\n",
              "6                  Indian National Congress   18       0        18\n",
              "7                     Pattali Makkal Katchi    5       0         5\n",
              "8            Viduthalai Chiruthaigal Katchi    4       0         4\n",
              "9                                     Total  234       0       234"
            ]
          },
          "metadata": {
            "tags": []
          },
          "execution_count": 6
        }
      ]
    },
    {
      "cell_type": "code",
      "metadata": {
        "id": "fCgIpPmP5aHu"
      },
      "source": [
        "#Saving the df as a csv\n",
        "table_df.to_csv(\"State wise summary 2021 for \" + State_of_interest +  '.csv', index=False)"
      ],
      "execution_count": 15,
      "outputs": []
    },
    {
      "cell_type": "markdown",
      "metadata": {
        "id": "A4rHfYDWlN2Y"
      },
      "source": [
        "#Extracting Const summary"
      ]
    },
    {
      "cell_type": "code",
      "metadata": {
        "id": "LXDLN3pfOtSa"
      },
      "source": [
        "Const_count = 234"
      ],
      "execution_count": 8,
      "outputs": []
    },
    {
      "cell_type": "markdown",
      "metadata": {
        "id": "2ADevQm67mAq"
      },
      "source": [
        "## To extract data with constituency data in seperate sheets"
      ]
    },
    {
      "cell_type": "code",
      "metadata": {
        "id": "wBKCy2sBlQ8M"
      },
      "source": [
        "#Extract data from the site and store it as a dict \n",
        "\n",
        "const_dict = {}\n",
        "for const_no in range(1, Const_count + 1):\n",
        "\n",
        "  url = \"https://results.eci.gov.in/Result2021/ConstituencywiseS22\" + str(const_no) + \".htm?ac=\" + str(const_no)\n",
        "  response = requests.get(url)\n",
        "\n",
        "  soup = BeautifulSoup(response.content, \"html.parser\")\n",
        "\n",
        "  table = soup.find_all(id=\"div1\")[0].find(\"table\")\n",
        "  header = table.find_all(\"tr\")\n",
        "  key = header[0].find(\"td\").get_text().strip().split(\"-\",1)[1] \n",
        "\n",
        "  table_data = []\n",
        "\n",
        "  for i in range(2, len(header)):\n",
        "    cell_data = []\n",
        "    cell = header[i].find_all(\"td\")\n",
        "    for j in cell:\n",
        "      cell_data.append(j.get_text())\n",
        "    table_data.append(cell_data)\n",
        "\n",
        "  table_df = pd.DataFrame(table_data, columns=[\"O.S.N.\",\t\"Candidate\",\t\"Party\",\t\"EVM Votes\",\t\"Postal Votes\",\t\"Total Votes\",\t\"% of Votes\"])\n",
        "  table_df.drop(0, inplace=True)\n",
        "\n",
        "  ## Uncomment to check if there is any error in the data\n",
        "  # Actual_tot = table_df[\"Total Votes\"].astype(int)[table_df['Candidate'] == \"Total\"].values[0]\n",
        "  # Checker_tot = table_df[\"Total Votes\"].astype(int).sum() - Actual_tot\n",
        "  # if Actual_tot != Checker_tot:\n",
        "  #   print(key, Actual_tot, Checker_tot)\n",
        "\n",
        "  const_dict[key] = table_df"
      ],
      "execution_count": 9,
      "outputs": []
    },
    {
      "cell_type": "code",
      "metadata": {
        "id": "1d_v_mJqnINQ"
      },
      "source": [
        "with pd.ExcelWriter('Const_wise_sum 21 ' + State_of_interest +  '_Detailed.xlsx', engine='xlsxwriter') as writer:\n",
        "  for i in const_dict.items():\n",
        "    i[1].to_excel(writer, sheet_name=i[0])"
      ],
      "execution_count": 16,
      "outputs": []
    },
    {
      "cell_type": "markdown",
      "metadata": {
        "id": "f_f75D3GOnog"
      },
      "source": [
        "#Extracting data as a single dataframe - csv file"
      ]
    },
    {
      "cell_type": "code",
      "metadata": {
        "id": "K56nqvZpWs7T"
      },
      "source": [
        "table_data = []\n",
        "\n",
        "for const_no in range(1, Const_count + 1):\n",
        "\n",
        "  url = \"https://results.eci.gov.in/Result2021/ConstituencywiseS22\" + str(const_no) + \".htm?ac=\" + str(const_no)\n",
        "  response = requests.get(url)\n",
        "\n",
        "  soup = BeautifulSoup(response.content, \"html.parser\")\n",
        "\n",
        "  table = soup.find_all(id=\"div1\")[0].find(\"table\")\n",
        "  header = table.find_all(\"tr\")\n",
        "  key = header[0].find(\"td\").get_text().strip().split(\"-\",1)[1] \n",
        "\n",
        "  for i in range(3, len(header)-1):\n",
        "    # Adding constituency\n",
        "    cell_data = [key]\n",
        "    cell = header[i].find_all(\"td\")\n",
        "    for j in cell:\n",
        "      cell_data.append(j.get_text())\n",
        "    table_data.append(cell_data)\n"
      ],
      "execution_count": null,
      "outputs": []
    },
    {
      "cell_type": "code",
      "metadata": {
        "id": "avxy_VaQWxtY",
        "colab": {
          "base_uri": "https://localhost:8080/"
        },
        "outputId": "00542791-ec4e-4e05-d814-82053a90a702"
      },
      "source": [
        "#Saving the data in a csv file\n",
        "Cons_result_2021 = pd.DataFrame(table_data, columns=[\"Constituency\", \"O.S.N.\",\t\"Candidate\",\t\"Party\",\t\"EVM Votes\",\t\"Postal Votes\",\t\"Total Votes\",\t\"% of Votes\"])\n",
        "Cons_result_2021[[\"EVM Votes\",\t\"Postal Votes\",\t\"Total Votes\"]] = Cons_result_2021[[\"EVM Votes\",\t\"Postal Votes\",\t\"Total Votes\"]].astype(int)\n",
        "Cons_result_2021[\"% of Votes\"] = Cons_result_2021[\"% of Votes\"].astype(float)\n",
        "\n",
        "Cons_result_2021.to_csv(\"Const_wise_sum 21 \" + State_of_interest +  \".csv\", index=False)\n",
        "\n",
        "Cons_result_2021.info()"
      ],
      "execution_count": 14,
      "outputs": [
        {
          "output_type": "stream",
          "text": [
            "<class 'pandas.core.frame.DataFrame'>\n",
            "RangeIndex: 4232 entries, 0 to 4231\n",
            "Data columns (total 8 columns):\n",
            " #   Column        Non-Null Count  Dtype  \n",
            "---  ------        --------------  -----  \n",
            " 0   Constituency  4232 non-null   object \n",
            " 1   O.S.N.        4232 non-null   object \n",
            " 2   Candidate     4232 non-null   object \n",
            " 3   Party         4232 non-null   object \n",
            " 4   EVM Votes     4232 non-null   int64  \n",
            " 5   Postal Votes  4232 non-null   int64  \n",
            " 6   Total Votes   4232 non-null   int64  \n",
            " 7   % of Votes    4232 non-null   float64\n",
            "dtypes: float64(1), int64(3), object(4)\n",
            "memory usage: 264.6+ KB\n"
          ],
          "name": "stdout"
        }
      ]
    }
  ]
}