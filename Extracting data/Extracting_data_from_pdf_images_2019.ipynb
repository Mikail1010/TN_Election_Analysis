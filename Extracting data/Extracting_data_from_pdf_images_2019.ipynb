{
  "nbformat": 4,
  "nbformat_minor": 0,
  "metadata": {
    "colab": {
      "name": "Extracting data from pdf images 2019.ipynb",
      "provenance": [],
      "collapsed_sections": [
        "97PG4gHw0AJe",
        "jmZNiE1AMXm2",
        "HI64eIIItZQU",
        "RQl95EIKzmv7",
        "GB3w3HwT4bkF",
        "fFAPPAxt3rs2",
        "SHNyJkKT4woI",
        "T8HKOoHmEWr2"
      ],
      "authorship_tag": "ABX9TyNDWramE24KeAvL7pd3xhMR"
    },
    "kernelspec": {
      "name": "python3",
      "display_name": "Python 3"
    },
    "language_info": {
      "name": "python"
    }
  },
  "cells": [
    {
      "cell_type": "markdown",
      "metadata": {
        "id": "97PG4gHw0AJe"
      },
      "source": [
        "#Prereq"
      ]
    },
    {
      "cell_type": "code",
      "metadata": {
        "colab": {
          "base_uri": "https://localhost:8080/"
        },
        "id": "si6L4heWnbQV",
        "outputId": "6fe9bea5-6f6e-45e4-9c65-d24caa9057ee"
      },
      "source": [
        "!apt-get install poppler-utils"
      ],
      "execution_count": 1,
      "outputs": [
        {
          "output_type": "stream",
          "text": [
            "Reading package lists... Done\n",
            "Building dependency tree       \n",
            "Reading state information... Done\n",
            "The following package was automatically installed and is no longer required:\n",
            "  libnvidia-common-460\n",
            "Use 'apt autoremove' to remove it.\n",
            "The following NEW packages will be installed:\n",
            "  poppler-utils\n",
            "0 upgraded, 1 newly installed, 0 to remove and 34 not upgraded.\n",
            "Need to get 154 kB of archives.\n",
            "After this operation, 613 kB of additional disk space will be used.\n",
            "Get:1 http://archive.ubuntu.com/ubuntu bionic-updates/main amd64 poppler-utils amd64 0.62.0-2ubuntu2.12 [154 kB]\n",
            "Fetched 154 kB in 1s (296 kB/s)\n",
            "Selecting previously unselected package poppler-utils.\n",
            "(Reading database ... 160706 files and directories currently installed.)\n",
            "Preparing to unpack .../poppler-utils_0.62.0-2ubuntu2.12_amd64.deb ...\n",
            "Unpacking poppler-utils (0.62.0-2ubuntu2.12) ...\n",
            "Setting up poppler-utils (0.62.0-2ubuntu2.12) ...\n",
            "Processing triggers for man-db (2.8.3-2ubuntu0.1) ...\n"
          ],
          "name": "stdout"
        }
      ]
    },
    {
      "cell_type": "code",
      "metadata": {
        "colab": {
          "base_uri": "https://localhost:8080/"
        },
        "id": "2hQ1djQumssH",
        "outputId": "ff33b839-4923-46ae-b1db-bac2135cad1f"
      },
      "source": [
        "!pip install pdf2image\n",
        "!pip install easyocr\n",
        "!pip3 install pickle5"
      ],
      "execution_count": 2,
      "outputs": [
        {
          "output_type": "stream",
          "text": [
            "Collecting pdf2image\n",
            "  Downloading https://files.pythonhosted.org/packages/7a/17/debc231f9bdb499e93389bb8679c7091ee9e4993dd92ed2da18aa896e2b6/pdf2image-1.15.1-py3-none-any.whl\n",
            "Requirement already satisfied: pillow in /usr/local/lib/python3.7/dist-packages (from pdf2image) (7.1.2)\n",
            "Installing collected packages: pdf2image\n",
            "Successfully installed pdf2image-1.15.1\n",
            "Collecting easyocr\n",
            "\u001b[?25l  Downloading https://files.pythonhosted.org/packages/6f/25/858a0245b7aa25ac955bff0e815551a27bde65f4f52a346b0fd3b8c3738e/easyocr-1.3.1-py3-none-any.whl (63.2MB)\n",
            "\u001b[K     |████████████████████████████████| 63.2MB 60kB/s \n",
            "\u001b[?25hRequirement already satisfied: Pillow in /usr/local/lib/python3.7/dist-packages (from easyocr) (7.1.2)\n",
            "Collecting python-bidi\n",
            "  Downloading https://files.pythonhosted.org/packages/33/b0/f942d146a2f457233baaafd6bdf624eba8e0f665045b4abd69d1b62d097d/python_bidi-0.4.2-py2.py3-none-any.whl\n",
            "Requirement already satisfied: PyYAML in /usr/local/lib/python3.7/dist-packages (from easyocr) (3.13)\n",
            "Requirement already satisfied: torchvision>=0.5 in /usr/local/lib/python3.7/dist-packages (from easyocr) (0.9.1+cu101)\n",
            "Requirement already satisfied: opencv-python in /usr/local/lib/python3.7/dist-packages (from easyocr) (4.1.2.30)\n",
            "Requirement already satisfied: scikit-image in /usr/local/lib/python3.7/dist-packages (from easyocr) (0.16.2)\n",
            "Requirement already satisfied: numpy in /usr/local/lib/python3.7/dist-packages (from easyocr) (1.19.5)\n",
            "Requirement already satisfied: scipy in /usr/local/lib/python3.7/dist-packages (from easyocr) (1.4.1)\n",
            "Requirement already satisfied: torch in /usr/local/lib/python3.7/dist-packages (from easyocr) (1.8.1+cu101)\n",
            "Requirement already satisfied: six in /usr/local/lib/python3.7/dist-packages (from python-bidi->easyocr) (1.15.0)\n",
            "Requirement already satisfied: imageio>=2.3.0 in /usr/local/lib/python3.7/dist-packages (from scikit-image->easyocr) (2.4.1)\n",
            "Requirement already satisfied: networkx>=2.0 in /usr/local/lib/python3.7/dist-packages (from scikit-image->easyocr) (2.5.1)\n",
            "Requirement already satisfied: matplotlib!=3.0.0,>=2.0.0 in /usr/local/lib/python3.7/dist-packages (from scikit-image->easyocr) (3.2.2)\n",
            "Requirement already satisfied: PyWavelets>=0.4.0 in /usr/local/lib/python3.7/dist-packages (from scikit-image->easyocr) (1.1.1)\n",
            "Requirement already satisfied: typing-extensions in /usr/local/lib/python3.7/dist-packages (from torch->easyocr) (3.7.4.3)\n",
            "Requirement already satisfied: decorator<5,>=4.3 in /usr/local/lib/python3.7/dist-packages (from networkx>=2.0->scikit-image->easyocr) (4.4.2)\n",
            "Requirement already satisfied: kiwisolver>=1.0.1 in /usr/local/lib/python3.7/dist-packages (from matplotlib!=3.0.0,>=2.0.0->scikit-image->easyocr) (1.3.1)\n",
            "Requirement already satisfied: python-dateutil>=2.1 in /usr/local/lib/python3.7/dist-packages (from matplotlib!=3.0.0,>=2.0.0->scikit-image->easyocr) (2.8.1)\n",
            "Requirement already satisfied: cycler>=0.10 in /usr/local/lib/python3.7/dist-packages (from matplotlib!=3.0.0,>=2.0.0->scikit-image->easyocr) (0.10.0)\n",
            "Requirement already satisfied: pyparsing!=2.0.4,!=2.1.2,!=2.1.6,>=2.0.1 in /usr/local/lib/python3.7/dist-packages (from matplotlib!=3.0.0,>=2.0.0->scikit-image->easyocr) (2.4.7)\n",
            "Installing collected packages: python-bidi, easyocr\n",
            "Successfully installed easyocr-1.3.1 python-bidi-0.4.2\n",
            "Collecting pickle5\n",
            "\u001b[?25l  Downloading https://files.pythonhosted.org/packages/f7/4c/5c4dd0462c8d3a6bc4af500a6af240763c2ebd1efdc736fc2c946d44b70a/pickle5-0.0.11.tar.gz (132kB)\n",
            "\u001b[K     |████████████████████████████████| 133kB 4.0MB/s \n",
            "\u001b[?25hBuilding wheels for collected packages: pickle5\n",
            "  Building wheel for pickle5 (setup.py) ... \u001b[?25l\u001b[?25hdone\n",
            "  Created wheel for pickle5: filename=pickle5-0.0.11-cp37-cp37m-linux_x86_64.whl size=219245 sha256=2d4a4242c2f340cb769847128fc153d6ff2a021a4e3d34b3806ec96d636d58a6\n",
            "  Stored in directory: /root/.cache/pip/wheels/a6/90/95/f889ca4aa8b0e0c7f21c8470b6f5d6032f0390a3a141a9a3bd\n",
            "Successfully built pickle5\n",
            "Installing collected packages: pickle5\n",
            "Successfully installed pickle5-0.0.11\n"
          ],
          "name": "stdout"
        }
      ]
    },
    {
      "cell_type": "code",
      "metadata": {
        "id": "u-U8mfUomy_K"
      },
      "source": [
        "from pdf2image import convert_from_path\n",
        "import easyocr\n",
        "import numpy as np\n",
        "import pandas as pd\n",
        "from IPython.display import display, Image\n",
        "import os\n",
        "import pickle\n",
        "import csv\n",
        "import re"
      ],
      "execution_count": 3,
      "outputs": []
    },
    {
      "cell_type": "code",
      "metadata": {
        "id": "bqEA1wd1z9ld"
      },
      "source": [
        "#Setting for notebook\n",
        "pd.options.display.max_columns = None\n",
        "pd.options.display.max_rows = None\n",
        "pd.options.display.width = None\n",
        "pd.options.display.max_colwidth = None\n",
        "%load_ext google.colab.data_table\n",
        "\n",
        "from IPython.display import HTML, display\n",
        "\n",
        "def my_css():\n",
        "   display(HTML(\"\"\"<style>table.dataframe td{white-space: nowrap;}</style>\"\"\"))\n",
        "\n",
        "get_ipython().events.register('pre_run_cell', my_css)"
      ],
      "execution_count": 4,
      "outputs": []
    },
    {
      "cell_type": "code",
      "metadata": {
        "colab": {
          "base_uri": "https://localhost:8080/",
          "height": 87
        },
        "id": "H-QCBgKMnD2s",
        "outputId": "7017a2b9-3ada-47a9-d2a9-678006cda71e"
      },
      "source": [
        "reader = easyocr.Reader(['en'])"
      ],
      "execution_count": 5,
      "outputs": [
        {
          "output_type": "display_data",
          "data": {
            "text/html": [
              "<style>table.dataframe td{white-space: nowrap;}</style>"
            ],
            "text/plain": [
              "<IPython.core.display.HTML object>"
            ]
          },
          "metadata": {
            "tags": []
          }
        },
        {
          "output_type": "stream",
          "text": [
            "CUDA not available - defaulting to CPU. Note: This module is much faster with a GPU.\n",
            "Downloading detection model, please wait. This may take several minutes depending upon your network connection.\n"
          ],
          "name": "stderr"
        },
        {
          "output_type": "stream",
          "text": [
            ""
          ],
          "name": "stdout"
        },
        {
          "output_type": "stream",
          "text": [
            "Downloading recognition model, please wait. This may take several minutes depending upon your network connection.\n"
          ],
          "name": "stderr"
        },
        {
          "output_type": "stream",
          "text": [
            ""
          ],
          "name": "stdout"
        }
      ]
    },
    {
      "cell_type": "markdown",
      "metadata": {
        "id": "jmZNiE1AMXm2"
      },
      "source": [
        "#Helper functions"
      ]
    },
    {
      "cell_type": "code",
      "metadata": {
        "colab": {
          "base_uri": "https://localhost:8080/",
          "height": 17
        },
        "id": "eoyCep6_MWnw",
        "outputId": "5e538b51-3dd4-41db-c965-76848e16d00c"
      },
      "source": [
        "!mkdir data\n",
        "def save_obj(obj, name):\n",
        "    with open('data/'+ name + '.pkl', 'wb') as f:\n",
        "        pickle.dump(obj, f, pickle.HIGHEST_PROTOCOL)\n",
        "\n",
        "def load_obj(name):\n",
        "    with open('data/' + name + '.pkl', 'rb') as f:\n",
        "        return pickle.load(f)"
      ],
      "execution_count": 6,
      "outputs": [
        {
          "output_type": "display_data",
          "data": {
            "text/html": [
              "<style>table.dataframe td{white-space: nowrap;}</style>"
            ],
            "text/plain": [
              "<IPython.core.display.HTML object>"
            ]
          },
          "metadata": {
            "tags": []
          }
        }
      ]
    },
    {
      "cell_type": "markdown",
      "metadata": {
        "id": "HI64eIIItZQU"
      },
      "source": [
        "#Downloading the data"
      ]
    },
    {
      "cell_type": "code",
      "metadata": {
        "colab": {
          "base_uri": "https://localhost:8080/",
          "height": 50
        },
        "id": "Q3riW8lgtcI2",
        "outputId": "0cb71e46-8286-4622-f85b-ea708150d2e3"
      },
      "source": [
        "%cd /content/\n",
        "!mkdir PDFfiles\n",
        "%cd /content/PDFfiles"
      ],
      "execution_count": 7,
      "outputs": [
        {
          "output_type": "display_data",
          "data": {
            "text/html": [
              "<style>table.dataframe td{white-space: nowrap;}</style>"
            ],
            "text/plain": [
              "<IPython.core.display.HTML object>"
            ]
          },
          "metadata": {
            "tags": []
          }
        },
        {
          "output_type": "stream",
          "text": [
            "/content\n",
            "/content/PDFfiles\n"
          ],
          "name": "stdout"
        }
      ]
    },
    {
      "cell_type": "code",
      "metadata": {
        "colab": {
          "base_uri": "https://localhost:8080/",
          "height": 17
        },
        "id": "1zVhKavktY4W",
        "outputId": "fff4ef3c-fd09-4792-d7ec-724d72f532d6"
      },
      "source": [
        "for i in range(1, 10):\n",
        "  url= 'https://www.elections.tn.gov.in/GELS2019_FORM21E/PC0' + str(i) + '.pdf'\n",
        "  os.system('wget %s' %url)\n",
        "for i in range(10, 40):\n",
        "  url= 'https://www.elections.tn.gov.in/GELS2019_FORM21E/PC' + str(i) + '.pdf'\n",
        "  os.system('wget %s' %url)"
      ],
      "execution_count": 8,
      "outputs": [
        {
          "output_type": "display_data",
          "data": {
            "text/html": [
              "<style>table.dataframe td{white-space: nowrap;}</style>"
            ],
            "text/plain": [
              "<IPython.core.display.HTML object>"
            ]
          },
          "metadata": {
            "tags": []
          }
        }
      ]
    },
    {
      "cell_type": "code",
      "metadata": {
        "colab": {
          "base_uri": "https://localhost:8080/",
          "height": 54
        },
        "id": "DAKQexwttzZ6",
        "outputId": "910075a2-468d-4232-aaec-89350faf9cea"
      },
      "source": [
        "data = []\n",
        "for filename in os.listdir('/content/PDFfiles'):\n",
        "    if filename.endswith(\"pdf\"): \n",
        "        data.append(filename)\n",
        "data.sort()\n",
        "print(data)"
      ],
      "execution_count": 10,
      "outputs": [
        {
          "output_type": "display_data",
          "data": {
            "text/html": [
              "<style>table.dataframe td{white-space: nowrap;}</style>"
            ],
            "text/plain": [
              "<IPython.core.display.HTML object>"
            ]
          },
          "metadata": {
            "tags": []
          }
        },
        {
          "output_type": "stream",
          "text": [
            "['PC01.pdf', 'PC02.pdf', 'PC03.pdf', 'PC04.pdf', 'PC05.pdf', 'PC06.pdf', 'PC07.pdf', 'PC08.pdf', 'PC09.pdf', 'PC10.pdf', 'PC11.pdf', 'PC12.pdf', 'PC13.pdf', 'PC14.pdf', 'PC15.pdf', 'PC16.pdf', 'PC17.pdf', 'PC18.pdf', 'PC19.pdf', 'PC20.pdf', 'PC21.pdf', 'PC22.pdf', 'PC23.pdf', 'PC24.pdf', 'PC25.pdf', 'PC26.pdf', 'PC27.pdf', 'PC28.pdf', 'PC29.pdf', 'PC30.pdf', 'PC31.pdf', 'PC32.pdf', 'PC33.pdf', 'PC34.pdf', 'PC35.pdf', 'PC36.pdf', 'PC37.pdf', 'PC38.pdf', 'PC39.pdf']\n"
          ],
          "name": "stdout"
        }
      ]
    },
    {
      "cell_type": "markdown",
      "metadata": {
        "id": "RQl95EIKzmv7"
      },
      "source": [
        "#Extracting text from pdf (images)"
      ]
    },
    {
      "cell_type": "code",
      "metadata": {
        "colab": {
          "base_uri": "https://localhost:8080/",
          "height": 17
        },
        "id": "P7VQX_ZjzmO7",
        "outputId": "e6f4d71c-79e0-49ed-dc27-94c493d80e78"
      },
      "source": [
        "bounded_data = {}\n",
        "thedf = {}\n",
        "listdf = {}"
      ],
      "execution_count": 11,
      "outputs": [
        {
          "output_type": "display_data",
          "data": {
            "text/html": [
              "<style>table.dataframe td{white-space: nowrap;}</style>"
            ],
            "text/plain": [
              "<IPython.core.display.HTML object>"
            ]
          },
          "metadata": {
            "tags": []
          }
        }
      ]
    },
    {
      "cell_type": "code",
      "metadata": {
        "colab": {
          "base_uri": "https://localhost:8080/",
          "height": 34
        },
        "id": "JsKve-6TzwjP",
        "outputId": "9a46e4a1-1a68-4d11-ad99-50a71c1ca2a6"
      },
      "source": [
        "for i in data[0:2]:\n",
        "  images = convert_from_path('/content/PDFfiles/' + i)\n",
        "  if len(images) == 1:\n",
        "    bounded_data[i] = reader.readtext(np.array(images[0]), min_size=0, slope_ths=0.2, ycenter_ths=0.7, height_ths=0.6, width_ths=0.8,decoder='beamsearch', beamWidth=10)\n",
        "  if len(images) == 2:\n",
        "\n",
        "    bounds1 = reader.readtext(np.array(images[0]), min_size=0, slope_ths=0.2, ycenter_ths=0.7, height_ths=0.6, width_ths=0.8,decoder='beamsearch', beamWidth=10)\n",
        "    bounds2 = reader.readtext(np.array(images[1]), min_size=0, slope_ths=0.2, ycenter_ths=0.7, height_ths=0.6, width_ths=0.8,decoder='beamsearch', beamWidth=10)\n",
        "    bounded_data[i] = bounds1 + bounds2\n",
        "\n",
        "  theshortlist = []\n",
        "  for j in range(0, len(bounded_data[i])):\n",
        "    theshortlist.append(bounded_data[i][j][1])\n",
        "  listdf[i] = theshortlist\n",
        "  thedf[i] = ' '.join(theshortlist)\n",
        "print(len(listdf))"
      ],
      "execution_count": 13,
      "outputs": [
        {
          "output_type": "display_data",
          "data": {
            "text/html": [
              "<style>table.dataframe td{white-space: nowrap;}</style>"
            ],
            "text/plain": [
              "<IPython.core.display.HTML object>"
            ]
          },
          "metadata": {
            "tags": []
          }
        },
        {
          "output_type": "stream",
          "text": [
            "2\n"
          ],
          "name": "stdout"
        }
      ]
    },
    {
      "cell_type": "code",
      "metadata": {
        "colab": {
          "base_uri": "https://localhost:8080/",
          "height": 34
        },
        "id": "wFDKXIT70Nhr",
        "outputId": "934cac7b-ee72-45f3-8998-aac34fb2c5d7"
      },
      "source": [
        "%cd /content"
      ],
      "execution_count": 14,
      "outputs": [
        {
          "output_type": "display_data",
          "data": {
            "text/html": [
              "<style>table.dataframe td{white-space: nowrap;}</style>"
            ],
            "text/plain": [
              "<IPython.core.display.HTML object>"
            ]
          },
          "metadata": {
            "tags": []
          }
        },
        {
          "output_type": "stream",
          "text": [
            "/content\n"
          ],
          "name": "stdout"
        }
      ]
    },
    {
      "cell_type": "code",
      "metadata": {
        "colab": {
          "base_uri": "https://localhost:8080/",
          "height": 17
        },
        "id": "urML3h250PlG",
        "outputId": "780c46d2-6d31-4acb-80fe-364275e779a9"
      },
      "source": [
        "save_obj(listdf, 'listdf')\n",
        "save_obj(thedf, 'thedf')"
      ],
      "execution_count": 15,
      "outputs": [
        {
          "output_type": "display_data",
          "data": {
            "text/html": [
              "<style>table.dataframe td{white-space: nowrap;}</style>"
            ],
            "text/plain": [
              "<IPython.core.display.HTML object>"
            ]
          },
          "metadata": {
            "tags": []
          }
        }
      ]
    },
    {
      "cell_type": "markdown",
      "metadata": {
        "id": "GB3w3HwT4bkF"
      },
      "source": [
        "#Creating text file dump for manual data correction"
      ]
    },
    {
      "cell_type": "code",
      "metadata": {
        "colab": {
          "base_uri": "https://localhost:8080/",
          "height": 67
        },
        "id": "JXLrNIQx0cZF",
        "outputId": "3f362a2d-f0ad-4dea-aedd-08a42de6e1c7"
      },
      "source": [
        "%cd /content\n",
        "!mkdir TxtFiles\n",
        "%cd /content/TxtFiles\n",
        "\n",
        "# for key, val in thedf.items():\n",
        "#   text_file = open(key + \".txt\", \"w\")\n",
        "#   n = text_file.write(val)\n",
        "#   text_file.close()"
      ],
      "execution_count": 74,
      "outputs": [
        {
          "output_type": "display_data",
          "data": {
            "text/html": [
              "<style>table.dataframe td{white-space: nowrap;}</style>"
            ],
            "text/plain": [
              "<IPython.core.display.HTML object>"
            ]
          },
          "metadata": {
            "tags": []
          }
        },
        {
          "output_type": "stream",
          "text": [
            "/content\n",
            "mkdir: cannot create directory ‘TxtFiles’: File exists\n",
            "/content/TxtFiles\n"
          ],
          "name": "stdout"
        }
      ]
    },
    {
      "cell_type": "code",
      "metadata": {
        "colab": {
          "base_uri": "https://localhost:8080/",
          "height": 54
        },
        "id": "OpT0B5JU1BPt",
        "outputId": "a5c98dc5-7b5d-44b3-afba-f1c455e315e2"
      },
      "source": [
        "Texts = []\n",
        "\n",
        "for filename in os.listdir('/content/TxtFiles'):\n",
        "    if filename.endswith(\"txt\"): \n",
        "        # Your code comes here such as \n",
        "        # print(filename)\n",
        "        Texts.append(filename)\n",
        "Texts.sort()\n",
        "print(Texts)"
      ],
      "execution_count": 68,
      "outputs": [
        {
          "output_type": "display_data",
          "data": {
            "text/html": [
              "<style>table.dataframe td{white-space: nowrap;}</style>"
            ],
            "text/plain": [
              "<IPython.core.display.HTML object>"
            ]
          },
          "metadata": {
            "tags": []
          }
        },
        {
          "output_type": "stream",
          "text": [
            "['PC01.pdf.txt', 'PC02.pdf.txt', 'PC03.pdf.txt', 'PC04.pdf.txt', 'PC05.pdf.txt', 'PC06.pdf.txt', 'PC07.pdf.txt', 'PC09.pdf.txt', 'PC10.pdf.txt', 'PC11.pdf.txt', 'PC12.pdf.txt', 'PC13.pdf.txt', 'PC14.pdf.txt', 'PC15.pdf.txt', 'PC16.pdf.txt', 'PC17.pdf.txt', 'PC18.pdf.txt', 'PC19.pdf.txt', 'PC20.pdf.txt', 'PC21.pdf.txt', 'PC22.pdf.txt', 'PC23.pdf.txt', 'PC24.pdf.txt', 'PC25.pdf.txt', 'PC26.pdf.txt', 'PC27.pdf.txt', 'PC28.pdf.txt', 'PC29.pdf.txt', 'PC30.pdf.txt', 'PC31.pdf.txt', 'PC32.pdf.txt', 'PC33.pdf.txt', 'PC34.pdf.txt', 'PC35.pdf.txt', 'PC36.pdf.txt', 'PC37.pdf.txt', 'PC38.pdf.txt', 'PC39.pdf.txt']\n"
          ],
          "name": "stdout"
        }
      ]
    },
    {
      "cell_type": "markdown",
      "metadata": {
        "id": "fFAPPAxt3rs2"
      },
      "source": [
        "##Extracting structured data from text files after manual corrections"
      ]
    },
    {
      "cell_type": "code",
      "metadata": {
        "id": "dIJDG2ngRoEH"
      },
      "source": [
        "Results_details = {}\n",
        "\n",
        "for text in Texts:\n",
        "  string = open(text, \"r\").read()\n",
        "  badchar = string[6:7]\n",
        "  string = string.replace(badchar, ' ')\n",
        "\n",
        "  m1 = re.search('Const:(.+?)Results:', string)\n",
        "  if m1:\n",
        "    const = m1.group(1)\n",
        "     \n",
        "  m2 = re.search('Results:(.+?)Details:', string)\n",
        "  if m2:\n",
        "    result_val = m2.group(1)\n",
        "    check = re.split('(\\d+)', result_val)\n",
        "    values =[' ', '  ']\n",
        "    for val in values:\n",
        "      check = [i for i in check if i != val]\n",
        "    results = []\n",
        "    for i in range(0, len(check)-2):\n",
        "      if i%3 == 0:\n",
        "        results.append([const, check[i], check[i + 1],check[i + 2]])\n",
        "\n",
        "  det = string.split('Details:')[1].lower()\n",
        "\n",
        "  det = det.replace(' ', '')\n",
        "  det = det.replace('\\n', '')\n",
        "  det = det.replace(':', '')\n",
        "  det = det.replace('\"', '')\n",
        "  det = det.replace(\"'\", '')\n",
        "  det = det.replace(\",\", '')\n",
        "  det = det.replace(\"nonefthe\", 'noneofthe')\n",
        "  det = det.replace('noneoftheabove(nota)', 'nota')\n",
        "  det = det.replace('noneoftheabove', 'nota')\n",
        "  det = det.replace('numbers', 'number')\n",
        "  det = det.replace('votes', 'vote')\n",
        "  det = det.replace(\"polied\", 'polled')\n",
        "  det = det.replace(\"ttotal\", 'total')\n",
        "  det = det.replace(\"votefornota\", 'ofnota')\n",
        "  det = det.replace(\"poled\", 'polled')\n",
        "  det = det.replace(\"ofof\", 'of')\n",
        "  \n",
        "  # det = det.replace(\"'NOTA'\", 'NOTA')\n",
        "  # print(text, det)\n",
        "  thedetailslist = re.split('(\\d+)', det)\n",
        "  details = {}\n",
        "  for i in range(0, len(thedetailslist)-1):\n",
        "    if i%2 == 0:\n",
        "      details[thedetailslist[i]] = thedetailslist[i + 1]\n",
        "  print(text, details)\n",
        "  Results_details[text]  = {'const':const, 'results':results, 'details':details}"
      ],
      "execution_count": null,
      "outputs": []
    },
    {
      "cell_type": "code",
      "metadata": {
        "colab": {
          "base_uri": "https://localhost:8080/",
          "height": 34
        },
        "id": "KwbtWiRwAS5i",
        "outputId": "7b6489f4-d0d6-4ac6-d5f4-7809e1def04f"
      },
      "source": [
        "%cd /content\n",
        "save_obj(Results_details, 'Results_details')"
      ],
      "execution_count": 70,
      "outputs": [
        {
          "output_type": "display_data",
          "data": {
            "text/html": [
              "<style>table.dataframe td{white-space: nowrap;}</style>"
            ],
            "text/plain": [
              "<IPython.core.display.HTML object>"
            ]
          },
          "metadata": {
            "tags": []
          }
        },
        {
          "output_type": "stream",
          "text": [
            "/content\n"
          ],
          "name": "stdout"
        }
      ]
    },
    {
      "cell_type": "code",
      "metadata": {
        "id": "c-hc9Egr17ik"
      },
      "source": [
        "for text in Texts:\n",
        "\tprint(text)\n",
        "\tfor result in Results_details[text]['details'].items():\n",
        "\t\tprint(result)"
      ],
      "execution_count": null,
      "outputs": []
    },
    {
      "cell_type": "markdown",
      "metadata": {
        "id": "SHNyJkKT4woI"
      },
      "source": [
        "#Compiling Parlimentary cosnt wise data"
      ]
    },
    {
      "cell_type": "code",
      "metadata": {
        "id": "cKpFhGs8e4N9"
      },
      "source": [
        "all_results = []\n",
        "for i in Results_details.values():\n",
        "  for j in i['results']:\n",
        "    all_results.append(j)\n",
        "all_results"
      ],
      "execution_count": null,
      "outputs": []
    },
    {
      "cell_type": "code",
      "metadata": {
        "colab": {
          "base_uri": "https://localhost:8080/",
          "height": 17
        },
        "id": "PO_JxDsZVmC1",
        "outputId": "6490d36a-4bb4-4f4f-ce5f-9a247697af58"
      },
      "source": [
        "Parties = ['Peoples Party of India (SECULAR)', 'NOTA', 'Indian Christiar: Front', 'Anaithu Makkal Katchi', 'Akila India Vallalar Peravai', 'Tamizhaga Murpokku Makkal Katchi', 'Ambedkarite Party of India', 'All India Uzhavargal Uzhaippalargal Katchi', 'Vivasayigal Makkal Munnetra Katchi', 'BSP', 'AIADMK', 'DMK', 'TIK', 'MNM', 'SUCI', 'NTK', 'AHIMSA SOCIALIST PARTY', 'ULZATPALI MAKKAL KATCHY', 'Anaithu Makkal Puratchi Katchi', 'Desiya Uzhavar Uzhaipalar Kazhagam', 'Indian New Congress Party', 'Desiya Uzhavar Uzhaipalar Kazhagam', 'Ezhuchi Tamilargal Munnetra Kazahagam', 'Agila India Makkal Kazhagam', 'Purvanchal Janta Party (Secular)', 'Ilantamilar Munnani Kazhagam', 'Anaithu Makkal Puratchi Katchi', \"All Pensioners' Party\", 'MAKKAL SANANAYAGA KUDIYARASU KATCHI', 'Samajwadi Forward Bloc', 'Ulzaipali Makkal Katchi', 'ALL INDIA PURATCHI THALAIVAR MAKKAL MUNNETRA KAZHAGAM', 'AHILA INDIA DHAYAGA MAKKAL MUNNETRA KATCHI', 'Purvanchal Janta Party (Secular)', 'Tamil Telugu National Party', 'Universal Brotherhood Movement', 'United States of India Party','Pyramid Party of India', 'TAMIL MAANILA CONGRESS','TamilNadu Ilangyar Katchi','Naam Indiar Party', 'Anti Corruption Dynamic Party','Tamil Nadu Ilangyar Katchi', 'Makkal Needhi Maiam','Bharatiya Janata Party','Bahujan Samaj Party','Communist Party of India','Communist Party of India  (Marxist)','Indian National Congress','Nationalist Congress Party','All India Forward Bloc','All India Majlis-E-Ittehadul Muslimeen','Indian Union Muslim League','Janata Dal  (Secular)','Janata Dal  (United)','Jammu & Kashmir National Panthers Party','Lok Jan Shakti Party','Pattali Makkal Katchi','Rashtriya Janata Dal','Shivsena','Samajwadi Party','All India Anna Dravida Munnetra Kazhagam','Desiya Murpokku Dravida Kazhagam','Dravida Munnetra Kazhagam','Akhil Bharat Hindu Mahasabha','All India Forward Bloc  (Subhasist)','Akhila India Jananayaka Makkal Katchi (Dr. Isaac)','All India Pattali Munnetra Katchi','All India Women United Party','Anaithu Makkal Munnetra Kazhagam','ALL PENSIONERS PARTY','Anbu Udhayam Katchi','Christian Democratic Front','Communist Party of India  (Marxist-Leninist)  (Liberation)','Communist Party of India (Marxist-Leninist) Red Star','Democratic Corruption Liberation Front','Desa Makkal Munnetrak Kazhgam','Desiya Makkal Sakthi Katchi','Eluchi Desam Party','Ezhuchi Tamilargal Munnetra Kazhagam','Forward Democratic Labour Party','The Future India Party',\"Gandhiyan People's Party\",'Gandhiya Makkal Iyakkam','Gokula Makkal Katchi','Ganasangam Party of India','Indian Christian Front','India Dravida Makkal Munnetra Katchi','Indiya Jananayaka Katchi','India Makkal Munnetra Katchi','Jan Shakti Dal','Jebamani Janata','Kongunadu Makkal Desia Katchi','Makkal Kootamaipu Katchi','Manithaneya Makkal Katchi','Marumalarchi Dravida Munnetra Kazhagam','Makkalatchi Katchi','Makkal Manadu Katchi','Makkal Sananayaga Kudiyarasu Katchi,','Namadhu Makkal Katchi','Naam Tamilar Katchi',\"People's Party of India(secular)\",'Puthiya Tamilagam','Puratchikara Thozilalar Katchi','Republican Party of India','Republican Party of India (A)','Republican Sena','Rashtriya Samaj Paksha','Rashtriya Janta Party','Samata Party','Samajwadi Samaj Party','Sainik Samaj Party','Socialistic Democratic Party','SOCIAL DEMOCRATIC PARTY OF INDIA','Samuga Makkal Katchi','SOCIALIST UNITY CENTRE OF INDIA (COMMUNIST)','Super Nation Party','Tamizhaga Vaazhvurimai Katchi','Thozhilalar Party','Tamil Maanila Congress  (Moopanar)','Tamilar Makkal Katchi','Tamilaga Makkal Munnetra Kazhagam','Tamilaga Sthabana Congress','United Communist Party of India','Ulzaipali Makkal Katchy','Vijaya Bharatha Makkal (People) Party','Viduthalai Chiruthaigal Katchi','Vidiyalai Thedum Indhiyargal Party','Valamaana Tamizhagam Katchi','Valimai Valartchi Indians Party','Welfare Party Of India','Youth And Students Party','Independent','None of the Above']"
      ],
      "execution_count": 24,
      "outputs": [
        {
          "output_type": "display_data",
          "data": {
            "text/html": [
              "<style>table.dataframe td{white-space: nowrap;}</style>"
            ],
            "text/plain": [
              "<IPython.core.display.HTML object>"
            ]
          },
          "metadata": {
            "tags": []
          }
        }
      ]
    },
    {
      "cell_type": "code",
      "metadata": {
        "colab": {
          "base_uri": "https://localhost:8080/",
          "height": 188
        },
        "id": "Wn1PxZrpXF2I",
        "outputId": "1d905ff1-2e75-48f3-e102-cf934bebaa51"
      },
      "source": [
        "df = pd.DataFrame(all_results, columns=['Parl Const', 'S. No.', 'Part+Cand', \"Total Votes\"])\n",
        "df.head()"
      ],
      "execution_count": 25,
      "outputs": [
        {
          "output_type": "display_data",
          "data": {
            "text/html": [
              "<style>table.dataframe td{white-space: nowrap;}</style>"
            ],
            "text/plain": [
              "<IPython.core.display.HTML object>"
            ]
          },
          "metadata": {
            "tags": []
          }
        },
        {
          "output_type": "execute_result",
          "data": {
            "application/vnd.google.colaboratory.module+javascript": "\n      import \"https://ssl.gstatic.com/colaboratory/data_table/a6224c040fa35dcf/data_table.js\";\n\n      window.createDataTable({\n        data: [[{\n            'v': 0,\n            'f': \"0\",\n        },\n\" Thiruvallur  \",\n\"1\",\n\" RAnbuchezhian Bahujan Samaj Party \",\n\"15187\"],\n [{\n            'v': 1,\n            'f': \"1\",\n        },\n\" Thiruvallur  \",\n\"2\",\n\" DrP Venugopal All India Anna Dravida Munnetra Kazhagam \",\n\"410337\"],\n [{\n            'v': 2,\n            'f': \"2\",\n        },\n\" Thiruvallur  \",\n\"3\",\n\" DrK Jayakumar Indian National Congress \",\n\"767292\"],\n [{\n            'v': 3,\n            'f': \"3\",\n        },\n\" Thiruvallur  \",\n\"4\",\n\" C Kalanithi Anti Corruption Dynamic Party \",\n\"4162\"],\n [{\n            'v': 4,\n            'f': \"4\",\n        },\n\" Thiruvallur  \",\n\"5\",\n\" DRavi Pariyanar Republican Party of India (A) \",\n\"17601\"]],\n        columns: [[\"number\", \"index\"], [\"string\", \"Parl Const\"], [\"string\", \"S. No.\"], [\"string\", \"Part+Cand\"], [\"string\", \"Total Votes\"]],\n        columnOptions: [{\"width\": \"1px\", \"className\": \"index_column\"}],\n        rowsPerPage: 25,\n        helpUrl: \"https://colab.research.google.com/notebooks/data_table.ipynb\",\n        suppressOutputScrolling: true,\n        minimumWidth: undefined,\n      });\n    ",
            "text/html": [
              "<div>\n",
              "<style scoped>\n",
              "    .dataframe tbody tr th:only-of-type {\n",
              "        vertical-align: middle;\n",
              "    }\n",
              "\n",
              "    .dataframe tbody tr th {\n",
              "        vertical-align: top;\n",
              "    }\n",
              "\n",
              "    .dataframe thead th {\n",
              "        text-align: right;\n",
              "    }\n",
              "</style>\n",
              "<table border=\"1\" class=\"dataframe\">\n",
              "  <thead>\n",
              "    <tr style=\"text-align: right;\">\n",
              "      <th></th>\n",
              "      <th>Parl Const</th>\n",
              "      <th>S. No.</th>\n",
              "      <th>Part+Cand</th>\n",
              "      <th>Total Votes</th>\n",
              "    </tr>\n",
              "  </thead>\n",
              "  <tbody>\n",
              "    <tr>\n",
              "      <th>0</th>\n",
              "      <td>Thiruvallur</td>\n",
              "      <td>1</td>\n",
              "      <td>RAnbuchezhian Bahujan Samaj Party</td>\n",
              "      <td>15187</td>\n",
              "    </tr>\n",
              "    <tr>\n",
              "      <th>1</th>\n",
              "      <td>Thiruvallur</td>\n",
              "      <td>2</td>\n",
              "      <td>DrP Venugopal All India Anna Dravida Munnetra Kazhagam</td>\n",
              "      <td>410337</td>\n",
              "    </tr>\n",
              "    <tr>\n",
              "      <th>2</th>\n",
              "      <td>Thiruvallur</td>\n",
              "      <td>3</td>\n",
              "      <td>DrK Jayakumar Indian National Congress</td>\n",
              "      <td>767292</td>\n",
              "    </tr>\n",
              "    <tr>\n",
              "      <th>3</th>\n",
              "      <td>Thiruvallur</td>\n",
              "      <td>4</td>\n",
              "      <td>C Kalanithi Anti Corruption Dynamic Party</td>\n",
              "      <td>4162</td>\n",
              "    </tr>\n",
              "    <tr>\n",
              "      <th>4</th>\n",
              "      <td>Thiruvallur</td>\n",
              "      <td>5</td>\n",
              "      <td>DRavi Pariyanar Republican Party of India (A)</td>\n",
              "      <td>17601</td>\n",
              "    </tr>\n",
              "  </tbody>\n",
              "</table>\n",
              "</div>"
            ],
            "text/plain": [
              "       Parl Const S. No.  \\\n",
              "0   Thiruvallur        1   \n",
              "1   Thiruvallur        2   \n",
              "2   Thiruvallur        3   \n",
              "3   Thiruvallur        4   \n",
              "4   Thiruvallur        5   \n",
              "\n",
              "                                                  Part+Cand Total Votes  \n",
              "0                        RAnbuchezhian Bahujan Samaj Party        15187  \n",
              "1   DrP Venugopal All India Anna Dravida Munnetra Kazhagam       410337  \n",
              "2                   DrK Jayakumar Indian National Congress       767292  \n",
              "3                C Kalanithi Anti Corruption Dynamic Party         4162  \n",
              "4            DRavi Pariyanar Republican Party of India (A)        17601  "
            ]
          },
          "metadata": {
            "tags": []
          },
          "execution_count": 25
        }
      ]
    },
    {
      "cell_type": "code",
      "metadata": {
        "colab": {
          "base_uri": "https://localhost:8080/",
          "height": 220
        },
        "id": "hr6UIBKYYAw_",
        "outputId": "0eec6779-9010-492a-c222-8ecf37fe0ad3"
      },
      "source": [
        "def ExtractPartyandCand(val):\n",
        "    for party in Parties:\n",
        "      if party.lower() in val.lower():\n",
        "        name = re.sub(party, '', val, flags=re.IGNORECASE)\n",
        "        return party, name\n",
        "        break\n",
        "df['Party'],  df['Candidate'] = zip(*df['Part+Cand'].apply(ExtractPartyandCand))\n",
        "\n",
        "df.head()"
      ],
      "execution_count": 26,
      "outputs": [
        {
          "output_type": "display_data",
          "data": {
            "text/html": [
              "<style>table.dataframe td{white-space: nowrap;}</style>"
            ],
            "text/plain": [
              "<IPython.core.display.HTML object>"
            ]
          },
          "metadata": {
            "tags": []
          }
        },
        {
          "output_type": "execute_result",
          "data": {
            "application/vnd.google.colaboratory.module+javascript": "\n      import \"https://ssl.gstatic.com/colaboratory/data_table/a6224c040fa35dcf/data_table.js\";\n\n      window.createDataTable({\n        data: [[{\n            'v': 0,\n            'f': \"0\",\n        },\n\" Thiruvallur  \",\n\"1\",\n\" RAnbuchezhian Bahujan Samaj Party \",\n\"15187\",\n\"Bahujan Samaj Party\",\n\" RAnbuchezhian  \"],\n [{\n            'v': 1,\n            'f': \"1\",\n        },\n\" Thiruvallur  \",\n\"2\",\n\" DrP Venugopal All India Anna Dravida Munnetra Kazhagam \",\n\"410337\",\n\"All India Anna Dravida Munnetra Kazhagam\",\n\" DrP Venugopal  \"],\n [{\n            'v': 2,\n            'f': \"2\",\n        },\n\" Thiruvallur  \",\n\"3\",\n\" DrK Jayakumar Indian National Congress \",\n\"767292\",\n\"Indian National Congress\",\n\" DrK Jayakumar  \"],\n [{\n            'v': 3,\n            'f': \"3\",\n        },\n\" Thiruvallur  \",\n\"4\",\n\" C Kalanithi Anti Corruption Dynamic Party \",\n\"4162\",\n\"Anti Corruption Dynamic Party\",\n\" C Kalanithi  \"],\n [{\n            'v': 4,\n            'f': \"4\",\n        },\n\" Thiruvallur  \",\n\"5\",\n\" DRavi Pariyanar Republican Party of India (A) \",\n\"17601\",\n\"Republican Party of India\",\n\" DRavi Pariyanar  (A) \"]],\n        columns: [[\"number\", \"index\"], [\"string\", \"Parl Const\"], [\"string\", \"S. No.\"], [\"string\", \"Part+Cand\"], [\"string\", \"Total Votes\"], [\"string\", \"Party\"], [\"string\", \"Candidate\"]],\n        columnOptions: [{\"width\": \"1px\", \"className\": \"index_column\"}],\n        rowsPerPage: 25,\n        helpUrl: \"https://colab.research.google.com/notebooks/data_table.ipynb\",\n        suppressOutputScrolling: true,\n        minimumWidth: undefined,\n      });\n    ",
            "text/html": [
              "<div>\n",
              "<style scoped>\n",
              "    .dataframe tbody tr th:only-of-type {\n",
              "        vertical-align: middle;\n",
              "    }\n",
              "\n",
              "    .dataframe tbody tr th {\n",
              "        vertical-align: top;\n",
              "    }\n",
              "\n",
              "    .dataframe thead th {\n",
              "        text-align: right;\n",
              "    }\n",
              "</style>\n",
              "<table border=\"1\" class=\"dataframe\">\n",
              "  <thead>\n",
              "    <tr style=\"text-align: right;\">\n",
              "      <th></th>\n",
              "      <th>Parl Const</th>\n",
              "      <th>S. No.</th>\n",
              "      <th>Part+Cand</th>\n",
              "      <th>Total Votes</th>\n",
              "      <th>Party</th>\n",
              "      <th>Candidate</th>\n",
              "    </tr>\n",
              "  </thead>\n",
              "  <tbody>\n",
              "    <tr>\n",
              "      <th>0</th>\n",
              "      <td>Thiruvallur</td>\n",
              "      <td>1</td>\n",
              "      <td>RAnbuchezhian Bahujan Samaj Party</td>\n",
              "      <td>15187</td>\n",
              "      <td>Bahujan Samaj Party</td>\n",
              "      <td>RAnbuchezhian</td>\n",
              "    </tr>\n",
              "    <tr>\n",
              "      <th>1</th>\n",
              "      <td>Thiruvallur</td>\n",
              "      <td>2</td>\n",
              "      <td>DrP Venugopal All India Anna Dravida Munnetra Kazhagam</td>\n",
              "      <td>410337</td>\n",
              "      <td>All India Anna Dravida Munnetra Kazhagam</td>\n",
              "      <td>DrP Venugopal</td>\n",
              "    </tr>\n",
              "    <tr>\n",
              "      <th>2</th>\n",
              "      <td>Thiruvallur</td>\n",
              "      <td>3</td>\n",
              "      <td>DrK Jayakumar Indian National Congress</td>\n",
              "      <td>767292</td>\n",
              "      <td>Indian National Congress</td>\n",
              "      <td>DrK Jayakumar</td>\n",
              "    </tr>\n",
              "    <tr>\n",
              "      <th>3</th>\n",
              "      <td>Thiruvallur</td>\n",
              "      <td>4</td>\n",
              "      <td>C Kalanithi Anti Corruption Dynamic Party</td>\n",
              "      <td>4162</td>\n",
              "      <td>Anti Corruption Dynamic Party</td>\n",
              "      <td>C Kalanithi</td>\n",
              "    </tr>\n",
              "    <tr>\n",
              "      <th>4</th>\n",
              "      <td>Thiruvallur</td>\n",
              "      <td>5</td>\n",
              "      <td>DRavi Pariyanar Republican Party of India (A)</td>\n",
              "      <td>17601</td>\n",
              "      <td>Republican Party of India</td>\n",
              "      <td>DRavi Pariyanar  (A)</td>\n",
              "    </tr>\n",
              "  </tbody>\n",
              "</table>\n",
              "</div>"
            ],
            "text/plain": [
              "       Parl Const S. No.  \\\n",
              "0   Thiruvallur        1   \n",
              "1   Thiruvallur        2   \n",
              "2   Thiruvallur        3   \n",
              "3   Thiruvallur        4   \n",
              "4   Thiruvallur        5   \n",
              "\n",
              "                                                  Part+Cand Total Votes  \\\n",
              "0                        RAnbuchezhian Bahujan Samaj Party        15187   \n",
              "1   DrP Venugopal All India Anna Dravida Munnetra Kazhagam       410337   \n",
              "2                   DrK Jayakumar Indian National Congress       767292   \n",
              "3                C Kalanithi Anti Corruption Dynamic Party         4162   \n",
              "4            DRavi Pariyanar Republican Party of India (A)        17601   \n",
              "\n",
              "                                      Party               Candidate  \n",
              "0                       Bahujan Samaj Party         RAnbuchezhian    \n",
              "1  All India Anna Dravida Munnetra Kazhagam         DrP Venugopal    \n",
              "2                  Indian National Congress         DrK Jayakumar    \n",
              "3             Anti Corruption Dynamic Party           C Kalanithi    \n",
              "4                 Republican Party of India   DRavi Pariyanar  (A)   "
            ]
          },
          "metadata": {
            "tags": []
          },
          "execution_count": 26
        }
      ]
    },
    {
      "cell_type": "code",
      "metadata": {
        "colab": {
          "base_uri": "https://localhost:8080/",
          "height": 17
        },
        "id": "jJDKryuHe0ZK",
        "outputId": "aaea2db9-f323-4fa9-9e7c-81feb9c94e12"
      },
      "source": [
        "df.to_csv('Data19')"
      ],
      "execution_count": 27,
      "outputs": [
        {
          "output_type": "display_data",
          "data": {
            "text/html": [
              "<style>table.dataframe td{white-space: nowrap;}</style>"
            ],
            "text/plain": [
              "<IPython.core.display.HTML object>"
            ]
          },
          "metadata": {
            "tags": []
          }
        }
      ]
    },
    {
      "cell_type": "code",
      "metadata": {
        "colab": {
          "base_uri": "https://localhost:8080/",
          "height": 388
        },
        "id": "kQBqbx402gXr",
        "outputId": "cf36542f-58d2-46c3-e463-00c4bb9c0dd8"
      },
      "source": [
        "data = pd.read_csv('Data19 - Data19.csv')\n",
        "data.drop(['Part+Cand', 'Unnamed: 0'], axis=1,inplace=True)\n",
        "results_2019= data[['Parl Const', 'S. No.', 'Party', 'Candidate', \"Total Votes\"]]\n",
        "results_2019.head(15)"
      ],
      "execution_count": 39,
      "outputs": [
        {
          "output_type": "display_data",
          "data": {
            "text/html": [
              "<style>table.dataframe td{white-space: nowrap;}</style>"
            ],
            "text/plain": [
              "<IPython.core.display.HTML object>"
            ]
          },
          "metadata": {
            "tags": []
          }
        },
        {
          "output_type": "execute_result",
          "data": {
            "application/vnd.google.colaboratory.module+javascript": "\n      import \"https://ssl.gstatic.com/colaboratory/data_table/a6224c040fa35dcf/data_table.js\";\n\n      window.createDataTable({\n        data: [[{\n            'v': 0,\n            'f': \"0\",\n        },\n\"Thiruvallur\",\n{\n            'v': 1,\n            'f': \"1\",\n        },\n\"Bahujan Samaj Party\",\n\"RAnbuchezhian\",\n{\n            'v': 15187,\n            'f': \"15187\",\n        }],\n [{\n            'v': 1,\n            'f': \"1\",\n        },\n\"Thiruvallur\",\n{\n            'v': 2,\n            'f': \"2\",\n        },\n\"All India Anna Dravida Munnetra Kazhagam\",\n\"DrP Venugopal\",\n{\n            'v': 410337,\n            'f': \"410337\",\n        }],\n [{\n            'v': 2,\n            'f': \"2\",\n        },\n\"Thiruvallur\",\n{\n            'v': 3,\n            'f': \"3\",\n        },\n\"Indian National Congress\",\n\"DrK Jayakumar\",\n{\n            'v': 767292,\n            'f': \"767292\",\n        }],\n [{\n            'v': 3,\n            'f': \"3\",\n        },\n\"Thiruvallur\",\n{\n            'v': 4,\n            'f': \"4\",\n        },\n\"Anti Corruption Dynamic Party\",\n\"C Kalanithi\",\n{\n            'v': 4162,\n            'f': \"4162\",\n        }],\n [{\n            'v': 4,\n            'f': \"4\",\n        },\n\"Thiruvallur\",\n{\n            'v': 5,\n            'f': \"5\",\n        },\n\"Republican Party of India\",\n\"DRavi Pariyanar  (A)\",\n{\n            'v': 17601,\n            'f': \"17601\",\n        }],\n [{\n            'v': 5,\n            'f': \"5\",\n        },\n\"Thiruvallur\",\n{\n            'v': 6,\n            'f': \"6\",\n        },\n\"Makkal Needhi Maiam\",\n\"Logarangan M\",\n{\n            'v': 73731,\n            'f': \"73731\",\n        }],\n [{\n            'v': 6,\n            'f': \"6\",\n        },\n\"Thiruvallur\",\n{\n            'v': 7,\n            'f': \"7\",\n        },\n\"Naam Tamilar Katchi\",\n\"M.VETRISELVI\",\n{\n            'v': 65416,\n            'f': \"65416\",\n        }],\n [{\n            'v': 7,\n            'f': \"7\",\n        },\n\"Thiruvallur\",\n{\n            'v': 8,\n            'f': \"8\",\n        },\n\"Independent\",\n\"G.Arulraj\",\n{\n            'v': 872,\n            'f': \"872\",\n        }],\n [{\n            'v': 8,\n            'f': \"8\",\n        },\n\"Thiruvallur\",\n{\n            'v': 9,\n            'f': \"9\",\n        },\n\"Independent\",\n\"DAnandaraj\",\n{\n            'v': 789,\n            'f': \"789\",\n        }],\n [{\n            'v': 9,\n            'f': \"9\",\n        },\n\"Thiruvallur\",\n{\n            'v': 10,\n            'f': \"10\",\n        },\n\"Independent\",\n\"KKamalanathan\",\n{\n            'v': 7051,\n            'f': \"7051\",\n        }],\n [{\n            'v': 10,\n            'f': \"10\",\n        },\n\"Thiruvallur\",\n{\n            'v': 11,\n            'f': \"11\",\n        },\n\"Independent\",\n\"V.Gunasekaran\",\n{\n            'v': 9081,\n            'f': \"9081\",\n        }],\n [{\n            'v': 11,\n            'f': \"11\",\n        },\n\"Thiruvallur\",\n{\n            'v': 12,\n            'f': \"12\",\n        },\n\"Independent\",\n\"KChandrasekar\",\n{\n            'v': 762,\n            'f': \"762\",\n        }],\n [{\n            'v': 12,\n            'f': \"12\",\n        },\n\"Thiruvallur\",\n{\n            'v': 13,\n            'f': \"13\",\n        },\n\"Independent\",\n\"S.Sargunam\",\n{\n            'v': 723,\n            'f': \"723\",\n        }],\n [{\n            'v': 13,\n            'f': \"13\",\n        },\n\"Thiruvallur\",\n{\n            'v': 14,\n            'f': \"14\",\n        },\n\"Independent\",\n\"CBharath\",\n{\n            'v': 1977,\n            'f': \"1977\",\n        }],\n [{\n            'v': 14,\n            'f': \"14\",\n        },\n\"Thiruvallur\",\n{\n            'v': 15,\n            'f': \"15\",\n        },\n\"Independent\",\n\"AManikandan\",\n{\n            'v': 3126,\n            'f': \"3126\",\n        }]],\n        columns: [[\"number\", \"index\"], [\"string\", \"Parl Const\"], [\"number\", \"S. No.\"], [\"string\", \"Party\"], [\"string\", \"Candidate\"], [\"number\", \"Total Votes\"]],\n        columnOptions: [{\"width\": \"1px\", \"className\": \"index_column\"}],\n        rowsPerPage: 25,\n        helpUrl: \"https://colab.research.google.com/notebooks/data_table.ipynb\",\n        suppressOutputScrolling: true,\n        minimumWidth: undefined,\n      });\n    ",
            "text/html": [
              "<div>\n",
              "<style scoped>\n",
              "    .dataframe tbody tr th:only-of-type {\n",
              "        vertical-align: middle;\n",
              "    }\n",
              "\n",
              "    .dataframe tbody tr th {\n",
              "        vertical-align: top;\n",
              "    }\n",
              "\n",
              "    .dataframe thead th {\n",
              "        text-align: right;\n",
              "    }\n",
              "</style>\n",
              "<table border=\"1\" class=\"dataframe\">\n",
              "  <thead>\n",
              "    <tr style=\"text-align: right;\">\n",
              "      <th></th>\n",
              "      <th>Parl Const</th>\n",
              "      <th>S. No.</th>\n",
              "      <th>Party</th>\n",
              "      <th>Candidate</th>\n",
              "      <th>Total Votes</th>\n",
              "    </tr>\n",
              "  </thead>\n",
              "  <tbody>\n",
              "    <tr>\n",
              "      <th>0</th>\n",
              "      <td>Thiruvallur</td>\n",
              "      <td>1</td>\n",
              "      <td>Bahujan Samaj Party</td>\n",
              "      <td>RAnbuchezhian</td>\n",
              "      <td>15187</td>\n",
              "    </tr>\n",
              "    <tr>\n",
              "      <th>1</th>\n",
              "      <td>Thiruvallur</td>\n",
              "      <td>2</td>\n",
              "      <td>All India Anna Dravida Munnetra Kazhagam</td>\n",
              "      <td>DrP Venugopal</td>\n",
              "      <td>410337</td>\n",
              "    </tr>\n",
              "    <tr>\n",
              "      <th>2</th>\n",
              "      <td>Thiruvallur</td>\n",
              "      <td>3</td>\n",
              "      <td>Indian National Congress</td>\n",
              "      <td>DrK Jayakumar</td>\n",
              "      <td>767292</td>\n",
              "    </tr>\n",
              "    <tr>\n",
              "      <th>3</th>\n",
              "      <td>Thiruvallur</td>\n",
              "      <td>4</td>\n",
              "      <td>Anti Corruption Dynamic Party</td>\n",
              "      <td>C Kalanithi</td>\n",
              "      <td>4162</td>\n",
              "    </tr>\n",
              "    <tr>\n",
              "      <th>4</th>\n",
              "      <td>Thiruvallur</td>\n",
              "      <td>5</td>\n",
              "      <td>Republican Party of India</td>\n",
              "      <td>DRavi Pariyanar  (A)</td>\n",
              "      <td>17601</td>\n",
              "    </tr>\n",
              "    <tr>\n",
              "      <th>5</th>\n",
              "      <td>Thiruvallur</td>\n",
              "      <td>6</td>\n",
              "      <td>Makkal Needhi Maiam</td>\n",
              "      <td>Logarangan M</td>\n",
              "      <td>73731</td>\n",
              "    </tr>\n",
              "    <tr>\n",
              "      <th>6</th>\n",
              "      <td>Thiruvallur</td>\n",
              "      <td>7</td>\n",
              "      <td>Naam Tamilar Katchi</td>\n",
              "      <td>M.VETRISELVI</td>\n",
              "      <td>65416</td>\n",
              "    </tr>\n",
              "    <tr>\n",
              "      <th>7</th>\n",
              "      <td>Thiruvallur</td>\n",
              "      <td>8</td>\n",
              "      <td>Independent</td>\n",
              "      <td>G.Arulraj</td>\n",
              "      <td>872</td>\n",
              "    </tr>\n",
              "    <tr>\n",
              "      <th>8</th>\n",
              "      <td>Thiruvallur</td>\n",
              "      <td>9</td>\n",
              "      <td>Independent</td>\n",
              "      <td>DAnandaraj</td>\n",
              "      <td>789</td>\n",
              "    </tr>\n",
              "    <tr>\n",
              "      <th>9</th>\n",
              "      <td>Thiruvallur</td>\n",
              "      <td>10</td>\n",
              "      <td>Independent</td>\n",
              "      <td>KKamalanathan</td>\n",
              "      <td>7051</td>\n",
              "    </tr>\n",
              "    <tr>\n",
              "      <th>10</th>\n",
              "      <td>Thiruvallur</td>\n",
              "      <td>11</td>\n",
              "      <td>Independent</td>\n",
              "      <td>V.Gunasekaran</td>\n",
              "      <td>9081</td>\n",
              "    </tr>\n",
              "    <tr>\n",
              "      <th>11</th>\n",
              "      <td>Thiruvallur</td>\n",
              "      <td>12</td>\n",
              "      <td>Independent</td>\n",
              "      <td>KChandrasekar</td>\n",
              "      <td>762</td>\n",
              "    </tr>\n",
              "    <tr>\n",
              "      <th>12</th>\n",
              "      <td>Thiruvallur</td>\n",
              "      <td>13</td>\n",
              "      <td>Independent</td>\n",
              "      <td>S.Sargunam</td>\n",
              "      <td>723</td>\n",
              "    </tr>\n",
              "    <tr>\n",
              "      <th>13</th>\n",
              "      <td>Thiruvallur</td>\n",
              "      <td>14</td>\n",
              "      <td>Independent</td>\n",
              "      <td>CBharath</td>\n",
              "      <td>1977</td>\n",
              "    </tr>\n",
              "    <tr>\n",
              "      <th>14</th>\n",
              "      <td>Thiruvallur</td>\n",
              "      <td>15</td>\n",
              "      <td>Independent</td>\n",
              "      <td>AManikandan</td>\n",
              "      <td>3126</td>\n",
              "    </tr>\n",
              "  </tbody>\n",
              "</table>\n",
              "</div>"
            ],
            "text/plain": [
              "     Parl Const  S. No.                                     Party  \\\n",
              "0   Thiruvallur       1                       Bahujan Samaj Party   \n",
              "1   Thiruvallur       2  All India Anna Dravida Munnetra Kazhagam   \n",
              "2   Thiruvallur       3                  Indian National Congress   \n",
              "3   Thiruvallur       4             Anti Corruption Dynamic Party   \n",
              "4   Thiruvallur       5                 Republican Party of India   \n",
              "5   Thiruvallur       6                       Makkal Needhi Maiam   \n",
              "6   Thiruvallur       7                       Naam Tamilar Katchi   \n",
              "7   Thiruvallur       8                               Independent   \n",
              "8   Thiruvallur       9                               Independent   \n",
              "9   Thiruvallur      10                               Independent   \n",
              "10  Thiruvallur      11                               Independent   \n",
              "11  Thiruvallur      12                               Independent   \n",
              "12  Thiruvallur      13                               Independent   \n",
              "13  Thiruvallur      14                               Independent   \n",
              "14  Thiruvallur      15                               Independent   \n",
              "\n",
              "               Candidate  Total Votes  \n",
              "0          RAnbuchezhian        15187  \n",
              "1          DrP Venugopal       410337  \n",
              "2          DrK Jayakumar       767292  \n",
              "3            C Kalanithi         4162  \n",
              "4   DRavi Pariyanar  (A)        17601  \n",
              "5           Logarangan M        73731  \n",
              "6           M.VETRISELVI        65416  \n",
              "7              G.Arulraj          872  \n",
              "8             DAnandaraj          789  \n",
              "9          KKamalanathan         7051  \n",
              "10         V.Gunasekaran         9081  \n",
              "11         KChandrasekar          762  \n",
              "12            S.Sargunam          723  \n",
              "13              CBharath         1977  \n",
              "14           AManikandan         3126  "
            ]
          },
          "metadata": {
            "tags": []
          },
          "execution_count": 39
        }
      ]
    },
    {
      "cell_type": "markdown",
      "metadata": {
        "id": "T8HKOoHmEWr2"
      },
      "source": [
        "#Compiling details"
      ]
    },
    {
      "cell_type": "code",
      "metadata": {
        "id": "DoG9wad4ROos"
      },
      "source": [
        "all_details = {}\n",
        "for i in Results_details.values():\n",
        "  all_details[i['const']] = i['details']"
      ],
      "execution_count": null,
      "outputs": []
    },
    {
      "cell_type": "code",
      "metadata": {
        "colab": {
          "base_uri": "https://localhost:8080/",
          "height": 232
        },
        "id": "HSmbz9RREaAT",
        "outputId": "3709c8f0-6764-4de9-9545-cc25711ccb11"
      },
      "source": [
        "df = pd.DataFrame(all_details)\n",
        "df"
      ],
      "execution_count": 122,
      "outputs": [
        {
          "output_type": "display_data",
          "data": {
            "text/html": [
              "<style>table.dataframe td{white-space: nowrap;}</style>"
            ],
            "text/plain": [
              "<IPython.core.display.HTML object>"
            ]
          },
          "metadata": {
            "tags": []
          }
        },
        {
          "output_type": "execute_result",
          "data": {
            "text/html": [
              "<div>\n",
              "<style scoped>\n",
              "    .dataframe tbody tr th:only-of-type {\n",
              "        vertical-align: middle;\n",
              "    }\n",
              "\n",
              "    .dataframe tbody tr th {\n",
              "        vertical-align: top;\n",
              "    }\n",
              "\n",
              "    .dataframe thead th {\n",
              "        text-align: right;\n",
              "    }\n",
              "</style>\n",
              "<table border=\"1\" class=\"dataframe\">\n",
              "  <thead>\n",
              "    <tr style=\"text-align: right;\">\n",
              "      <th></th>\n",
              "      <th>Thiruvallur</th>\n",
              "      <th>Chennai North</th>\n",
              "      <th>Chennai South</th>\n",
              "      <th>Chennai</th>\n",
              "      <th>Sriperumbudur</th>\n",
              "      <th>Kancheepuram</th>\n",
              "      <th>Arakkonam</th>\n",
              "      <th>Krishnagiri</th>\n",
              "      <th>DHARMAPURI</th>\n",
              "      <th>Arani</th>\n",
              "      <th>Kallakurichi</th>\n",
              "      <th>Salem</th>\n",
              "      <th>Namakkal</th>\n",
              "      <th>Erode</th>\n",
              "      <th>Nilgiris</th>\n",
              "      <th>COIMBATORE</th>\n",
              "      <th>POLLACHI</th>\n",
              "      <th>Dindigul</th>\n",
              "      <th>Karur</th>\n",
              "      <th>Tiruchirappalli</th>\n",
              "      <th>Perambalur</th>\n",
              "      <th>Cuddalore</th>\n",
              "      <th>Chidambaram</th>\n",
              "      <th>Mayiladuthurai</th>\n",
              "      <th>Nagapattinam</th>\n",
              "      <th>Thanjavur</th>\n",
              "      <th>Madurai</th>\n",
              "      <th>THENI</th>\n",
              "      <th>Virudhunagar</th>\n",
              "      <th>Ramanathapuram</th>\n",
              "      <th>Thoothukkudi</th>\n",
              "      <th>Tenkasi</th>\n",
              "      <th>Tirunelveli</th>\n",
              "      <th>Kanniyakumari</th>\n",
              "    </tr>\n",
              "  </thead>\n",
              "  <tbody>\n",
              "    <tr>\n",
              "      <th>totalnumberofelectors</th>\n",
              "      <td>1946870</td>\n",
              "      <td>1487461</td>\n",
              "      <td>1973533</td>\n",
              "      <td>1332300</td>\n",
              "      <td>2253041</td>\n",
              "      <td>1643656</td>\n",
              "      <td>1500016</td>\n",
              "      <td>1530404</td>\n",
              "      <td>1470203</td>\n",
              "      <td>1444335</td>\n",
              "      <td>1528938</td>\n",
              "      <td>1612512</td>\n",
              "      <td>1413246</td>\n",
              "      <td>1529836</td>\n",
              "      <td>1366060</td>\n",
              "      <td>1958577</td>\n",
              "      <td>7520504</td>\n",
              "      <td>1541881</td>\n",
              "      <td>1387286</td>\n",
              "      <td>1508963</td>\n",
              "      <td>1391853</td>\n",
              "      <td>1364038</td>\n",
              "      <td>1480222</td>\n",
              "      <td>1484348</td>\n",
              "      <td>1303060</td>\n",
              "      <td>1552019</td>\n",
              "      <td>1539026</td>\n",
              "      <td>1561040</td>\n",
              "      <td>1480600</td>\n",
              "      <td>1559740</td>\n",
              "      <td>1427783</td>\n",
              "      <td>1492317</td>\n",
              "      <td>1547800</td>\n",
              "      <td>1501250</td>\n",
              "    </tr>\n",
              "    <tr>\n",
              "      <th>totalnumberofvalidvotepolled</th>\n",
              "      <td>1389914</td>\n",
              "      <td>939858</td>\n",
              "      <td>1108966</td>\n",
              "      <td>771628</td>\n",
              "      <td>1406782</td>\n",
              "      <td>1237612</td>\n",
              "      <td>1165881</td>\n",
              "      <td>1141544</td>\n",
              "      <td>1139412</td>\n",
              "      <td>1123597</td>\n",
              "      <td>1192799</td>\n",
              "      <td>1238329</td>\n",
              "      <td>1118701</td>\n",
              "      <td>1097723</td>\n",
              "      <td>992570</td>\n",
              "      <td>1227673</td>\n",
              "      <td>7066765</td>\n",
              "      <td>1145869</td>\n",
              "      <td>1093562</td>\n",
              "      <td>1033625</td>\n",
              "      <td>1091442</td>\n",
              "      <td>1034477</td>\n",
              "      <td>1137657</td>\n",
              "      <td>1089012</td>\n",
              "      <td>992745</td>\n",
              "      <td>1075185</td>\n",
              "      <td>999839</td>\n",
              "      <td>1162803</td>\n",
              "      <td>1057443</td>\n",
              "      <td>1058551</td>\n",
              "      <td>982029</td>\n",
              "      <td>1051513</td>\n",
              "      <td>1028803</td>\n",
              "      <td>1042246</td>\n",
              "    </tr>\n",
              "    <tr>\n",
              "      <th>totalnumberofnota</th>\n",
              "      <td>18275</td>\n",
              "      <td>15687</td>\n",
              "      <td>16891</td>\n",
              "      <td>13822</td>\n",
              "      <td>23343</td>\n",
              "      <td>21661</td>\n",
              "      <td>12179</td>\n",
              "      <td>19825</td>\n",
              "      <td>12317</td>\n",
              "      <td>11943</td>\n",
              "      <td>11576</td>\n",
              "      <td>17130</td>\n",
              "      <td>15073</td>\n",
              "      <td>21861</td>\n",
              "      <td>18149</td>\n",
              "      <td>23190</td>\n",
              "      <td>15110</td>\n",
              "      <td>14177</td>\n",
              "      <td>9603</td>\n",
              "      <td>14437</td>\n",
              "      <td>NaN</td>\n",
              "      <td>8725</td>\n",
              "      <td>15535</td>\n",
              "      <td>8231</td>\n",
              "      <td>9463</td>\n",
              "      <td>9283</td>\n",
              "      <td>16187</td>\n",
              "      <td>10686</td>\n",
              "      <td>17292</td>\n",
              "      <td>7595</td>\n",
              "      <td>9234</td>\n",
              "      <td>14056</td>\n",
              "      <td>10958</td>\n",
              "      <td>6131</td>\n",
              "    </tr>\n",
              "    <tr>\n",
              "      <th>totalnumberofrejectedvote</th>\n",
              "      <td>76</td>\n",
              "      <td>386</td>\n",
              "      <td>484</td>\n",
              "      <td>307</td>\n",
              "      <td>371</td>\n",
              "      <td>546</td>\n",
              "      <td>1652</td>\n",
              "      <td>904</td>\n",
              "      <td>62</td>\n",
              "      <td>558</td>\n",
              "      <td>560</td>\n",
              "      <td>871</td>\n",
              "      <td>210</td>\n",
              "      <td>5091</td>\n",
              "      <td>330</td>\n",
              "      <td>44</td>\n",
              "      <td>13</td>\n",
              "      <td>885</td>\n",
              "      <td>480</td>\n",
              "      <td>717</td>\n",
              "      <td>393</td>\n",
              "      <td>178</td>\n",
              "      <td>1065</td>\n",
              "      <td>537</td>\n",
              "      <td>712</td>\n",
              "      <td>438</td>\n",
              "      <td>1096</td>\n",
              "      <td>1519</td>\n",
              "      <td>1191</td>\n",
              "      <td>777</td>\n",
              "      <td>704</td>\n",
              "      <td>920</td>\n",
              "      <td>40</td>\n",
              "      <td>1050</td>\n",
              "    </tr>\n",
              "    <tr>\n",
              "      <th>totalnumberoftenderedvote</th>\n",
              "      <td>0</td>\n",
              "      <td>0</td>\n",
              "      <td>31</td>\n",
              "      <td>15</td>\n",
              "      <td>0</td>\n",
              "      <td>0</td>\n",
              "      <td>0</td>\n",
              "      <td>0</td>\n",
              "      <td>0</td>\n",
              "      <td>0</td>\n",
              "      <td>0</td>\n",
              "      <td>0</td>\n",
              "      <td>0</td>\n",
              "      <td>0</td>\n",
              "      <td>0</td>\n",
              "      <td>22</td>\n",
              "      <td>0</td>\n",
              "      <td>2</td>\n",
              "      <td>2</td>\n",
              "      <td>0</td>\n",
              "      <td>0</td>\n",
              "      <td>3</td>\n",
              "      <td>5</td>\n",
              "      <td>0</td>\n",
              "      <td>0</td>\n",
              "      <td>7</td>\n",
              "      <td>0</td>\n",
              "      <td>0</td>\n",
              "      <td>0</td>\n",
              "      <td>0</td>\n",
              "      <td>19</td>\n",
              "      <td>0</td>\n",
              "      <td>0</td>\n",
              "      <td>14</td>\n",
              "    </tr>\n",
              "  </tbody>\n",
              "</table>\n",
              "</div>"
            ],
            "text/plain": [
              "                              Thiruvallur    Chennai North    Chennai South    \\\n",
              "totalnumberofelectors               1946870          1487461          1973533   \n",
              "totalnumberofvalidvotepolled        1389914           939858          1108966   \n",
              "totalnumberofnota                     18275            15687            16891   \n",
              "totalnumberofrejectedvote                76              386              484   \n",
              "totalnumberoftenderedvote                 0                0               31   \n",
              "\n",
              "                              Chennai    Sriperumbudur    Kancheepuram    \\\n",
              "totalnumberofelectors           1332300          2253041         1643656   \n",
              "totalnumberofvalidvotepolled     771628          1406782         1237612   \n",
              "totalnumberofnota                 13822            23343           21661   \n",
              "totalnumberofrejectedvote           307              371             546   \n",
              "totalnumberoftenderedvote            15                0               0   \n",
              "\n",
              "                              Arakkonam    Krishnagiri    DHARMAPURI    \\\n",
              "totalnumberofelectors             1500016        1530404       1470203   \n",
              "totalnumberofvalidvotepolled      1165881        1141544       1139412   \n",
              "totalnumberofnota                   12179          19825         12317   \n",
              "totalnumberofrejectedvote            1652            904            62   \n",
              "totalnumberoftenderedvote               0              0             0   \n",
              "\n",
              "                              Arani    Kallakurichi    Salem    Namakkal    \\\n",
              "totalnumberofelectors         1444335         1528938  1612512     1413246   \n",
              "totalnumberofvalidvotepolled  1123597         1192799  1238329     1118701   \n",
              "totalnumberofnota               11943           11576    17130       15073   \n",
              "totalnumberofrejectedvote         558             560      871         210   \n",
              "totalnumberoftenderedvote           0               0        0           0   \n",
              "\n",
              "                              Erode    Nilgiris    COIMBATORE    POLLACHI    \\\n",
              "totalnumberofelectors         1529836     1366060       1958577     7520504   \n",
              "totalnumberofvalidvotepolled  1097723      992570       1227673     7066765   \n",
              "totalnumberofnota               21861       18149         23190       15110   \n",
              "totalnumberofrejectedvote        5091         330            44          13   \n",
              "totalnumberoftenderedvote           0           0            22           0   \n",
              "\n",
              "                              Dindigul    Karur    Tiruchirappalli    \\\n",
              "totalnumberofelectors            1541881  1387286            1508963   \n",
              "totalnumberofvalidvotepolled     1145869  1093562            1033625   \n",
              "totalnumberofnota                  14177     9603              14437   \n",
              "totalnumberofrejectedvote            885      480                717   \n",
              "totalnumberoftenderedvote              2        2                  0   \n",
              "\n",
              "                              Perambalur    Cuddalore    Chidambaram    \\\n",
              "totalnumberofelectors              1391853      1364038        1480222   \n",
              "totalnumberofvalidvotepolled       1091442      1034477        1137657   \n",
              "totalnumberofnota                      NaN         8725          15535   \n",
              "totalnumberofrejectedvote              393          178           1065   \n",
              "totalnumberoftenderedvote                0            3              5   \n",
              "\n",
              "                              Mayiladuthurai    Nagapattinam    Thanjavur    \\\n",
              "totalnumberofelectors                  1484348         1303060      1552019   \n",
              "totalnumberofvalidvotepolled           1089012          992745      1075185   \n",
              "totalnumberofnota                         8231            9463         9283   \n",
              "totalnumberofrejectedvote                  537             712          438   \n",
              "totalnumberoftenderedvote                    0               0            7   \n",
              "\n",
              "                              Madurai    THENI    Virudhunagar    \\\n",
              "totalnumberofelectors           1539026  1561040         1480600   \n",
              "totalnumberofvalidvotepolled     999839  1162803         1057443   \n",
              "totalnumberofnota                 16187    10686           17292   \n",
              "totalnumberofrejectedvote          1096     1519            1191   \n",
              "totalnumberoftenderedvote             0        0               0   \n",
              "\n",
              "                              Ramanathapuram    Thoothukkudi    Tenkasi     \\\n",
              "totalnumberofelectors                  1559740         1427783     1492317   \n",
              "totalnumberofvalidvotepolled           1058551          982029     1051513   \n",
              "totalnumberofnota                         7595            9234       14056   \n",
              "totalnumberofrejectedvote                  777             704         920   \n",
              "totalnumberoftenderedvote                    0              19           0   \n",
              "\n",
              "                              Tirunelveli     Kanniyakumari     \n",
              "totalnumberofelectors                1547800           1501250  \n",
              "totalnumberofvalidvotepolled         1028803           1042246  \n",
              "totalnumberofnota                      10958              6131  \n",
              "totalnumberofrejectedvote                 40              1050  \n",
              "totalnumberoftenderedvote                  0                14  "
            ]
          },
          "metadata": {
            "tags": []
          },
          "execution_count": 122
        }
      ]
    }
  ]
}